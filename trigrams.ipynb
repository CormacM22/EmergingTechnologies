{
 "cells": [
  {
   "cell_type": "markdown",
   "metadata": {},
   "source": [
    "## Task1: Third-Order Letter Approximation Model.\n",
    "\n",
    "In this task, I will build a third-order letter approximation model using English texts from Project Gutenberg. The goal is to create a trigram model that counts the frequency of every sequence of three characters (trigram) in the selected texts."
   ]
  },
  {
   "cell_type": "code",
   "execution_count": 3,
   "metadata": {},
   "outputs": [],
   "source": [
    "import re\n",
    "from collections import defaultdict"
   ]
  },
  {
   "cell_type": "markdown",
   "metadata": {},
   "source": [
    "### Re (Regular Expresion Module)\n",
    "- Working with regular expressions is supported by Python's `re` module and is helpful when searching for and modifying strings based on patterns.\n",
    "\n",
    "### DefaultDict\n",
    "- The `defaultdict` class is part of Python's collections module and provides a convenient way to create dictionaries with default values.\n",
    "\n",
    "\n"
   ]
  },
  {
   "cell_type": "code",
   "execution_count": 4,
   "metadata": {},
   "outputs": [],
   "source": [
    "def preprocess_text(text):\n",
    "    # Remove preamble and postamble\n",
    "    start = re.search(r'\\*\\*\\* START OF THIS PROJECT GUTENBERG EBOOK .* \\*\\*\\*', text)\n",
    "    end = re.search(r'\\*\\*\\* END OF THIS PROJECT GUTENBERG EBOOK .* \\*\\*\\*', text)\n",
    "    if start and end:\n",
    "        text = text[start.end():end.start()]\n",
    "    \n",
    "    # Remove all characters except for ASCII letters, full stops, and spaces\n",
    "    text = re.sub(r'[^A-Za-z. ]', '', text)\n",
    "    \n",
    "    # Convert all letters to uppercase\n",
    "    text = text.upper()\n",
    "    \n",
    "    return text"
   ]
  },
  {
   "cell_type": "markdown",
   "metadata": {},
   "source": [
    "### Preprocessing Text\n",
    "\n",
    "The `preprocess_text` function is designed to clean and prepare the text data for further analysis. Here are the steps it performs:\n",
    "\n",
    "1. **Remove Preamble and Postamble**: The function searches for the start and end markers of the Project Gutenberg eBook and removes any text outside these markers.\n",
    "2. **Remove Unwanted Characters**: It removes all characters except for ASCII letters, full stops, and spaces using a regular expression.\n",
    "3. **Convert to Uppercase**: Finally, it converts all letters to uppercase to standardize the text.\n",
    "\n",
    "This preprocessing ensures that the text is in a consistent format, making it easier to build the trigram model."
   ]
  }
 ],
 "metadata": {
  "kernelspec": {
   "display_name": "base",
   "language": "python",
   "name": "python3"
  },
  "language_info": {
   "codemirror_mode": {
    "name": "ipython",
    "version": 3
   },
   "file_extension": ".py",
   "mimetype": "text/x-python",
   "name": "python",
   "nbconvert_exporter": "python",
   "pygments_lexer": "ipython3",
   "version": "3.11.7"
  }
 },
 "nbformat": 4,
 "nbformat_minor": 2
}
