{
 "cells": [
  {
   "cell_type": "markdown",
   "metadata": {},
   "source": [
    "## Task1: Third-Order Letter Approximation Model\n",
    "\n",
    "In this task, I will build a third-order letter approximation model using English texts from Project Gutenberg. The goal is to create a trigram model that counts the frequency of every sequence of three characters (trigram) in the selected texts."
   ]
  },
  {
   "cell_type": "code",
   "execution_count": 3,
   "metadata": {},
   "outputs": [],
   "source": [
    "import re\n",
    "import os\n",
    "\n",
    "# Global variables to store processed texts and trigram dictionary\n",
    "processed_texts = []\n",
    "trigrams = {}"
   ]
  },
  {
   "cell_type": "code",
   "execution_count": 4,
   "metadata": {},
   "outputs": [],
   "source": [
    "def preprocess_text(text):\n",
    "    # Define markers for preamble and postamble sections\n",
    "    preamble = \" ***\"\n",
    "    postamble = \"*** END OF \"\n",
    "    \n",
    "    # Step 1: Remove preamble and postamble\n",
    "    cleaned_text = text[text.index(preamble) + len(preamble):text.index(postamble)]\n",
    "    \n",
    "    # Step 2: Filter out non-alphabetic characters, keeping only letters, spaces, and periods\n",
    "    cleaned_text = re.sub(\"[^a-zA-Z\\\\s.]\", \"\", cleaned_text)\n",
    "    \n",
    "    # Step 3: Replace multiple newlines with a single newline\n",
    "    cleaned_text = re.sub(r\"\\n\\s*\\n\", \"\\n\", cleaned_text)\n",
    "    \n",
    "    # Convert to uppercase and trim any leading/trailing whitespace\n",
    "    return cleaned_text.upper().strip()\n"
   ]
  },
  {
   "cell_type": "code",
   "execution_count": null,
   "metadata": {},
   "outputs": [],
   "source": [
    "def produce_trigrams(texts):\n",
    "    trigram_counts = {}  # Dictionary to store trigram counts\n",
    "    \n",
    "    for text in texts:\n",
    "        for i in range(len(text) - 2):  # Stop at len(text) - 2 to avoid index errors\n",
    "            trigram = text[i:i+3]  # Extract three-character sequence\n",
    "            \n",
    "            # Only proceed if trigram has exactly 3 characters (skip incomplete sequences)\n",
    "            if len(trigram) == 3:\n",
    "                if trigram in trigram_counts:\n",
    "                    trigram_counts[trigram] += 1  # Increment count if trigram already exists\n",
    "                else:\n",
    "                    trigram_counts[trigram] = 1  # Initialize trigram count if it doesn't exist\n",
    "    \n",
    "    return trigram_counts\n"
   ]
  },
  {
   "cell_type": "code",
   "execution_count": null,
   "metadata": {},
   "outputs": [],
   "source": [
    "# Load and process each .txt file in the 'texts/' directory\n",
    "for file in os.scandir(\"texts\"):\n",
    "    if file.name.endswith(\".txt\"):\n",
    "        with open(file.path, 'r', encoding='utf-8') as f:\n",
    "            content = f.read()\n",
    "            processed_texts.append(preprocess_text(content))  # Sanitize and add to the list\n"
   ]
  },
  {
   "cell_type": "code",
   "execution_count": null,
   "metadata": {},
   "outputs": [],
   "source": [
    "# Generate trigram model from processed texts\n",
    "trigrams = produce_trigrams(processed_texts)\n",
    "print(\"Sample of Trigram Model:\", dict(list(trigrams.items())[:10]))  # Display a sample\n"
   ]
  }
 ],
 "metadata": {
  "kernelspec": {
   "display_name": "base",
   "language": "python",
   "name": "python3"
  },
  "language_info": {
   "codemirror_mode": {
    "name": "ipython",
    "version": 3
   },
   "file_extension": ".py",
   "mimetype": "text/x-python",
   "name": "python",
   "nbconvert_exporter": "python",
   "pygments_lexer": "ipython3",
   "version": "3.11.7"
  }
 },
 "nbformat": 4,
 "nbformat_minor": 2
}
