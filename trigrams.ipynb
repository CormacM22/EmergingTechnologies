{
 "cells": [
  {
   "cell_type": "markdown",
   "metadata": {},
   "source": [
    "## Task1: Third-Order Letter Approximation Model\n",
    "\n",
    "In this task, I will build a third-order letter approximation model using English texts from Project Gutenberg. The goal is to create a trigram model that counts the frequency of every sequence of three characters (trigram) in the selected texts."
   ]
  },
  {
   "cell_type": "code",
   "execution_count": 1,
   "metadata": {},
   "outputs": [],
   "source": [
    "import re\n",
    "import os\n",
    "\n",
    "# Global variables to store processed texts and trigram dictionary\n",
    "processed_texts = []\n",
    "trigrams = {}"
   ]
  },
  {
   "cell_type": "markdown",
   "metadata": {},
   "source": [
    "### Text Preprocessing with preprocess_text\n",
    "The preprocess_text function is designed to clean the raw text files. It removes any irrelevant sections, special characters, and extra whitespace, leaving only uppercase letters, full stops, and spaces. This preprocessing is essential to ensure our trigram model is built on clean and consistent data.\n",
    "\n",
    "The preprocess_text function performs the following steps:\n",
    "\n",
    "1. Remove Preamble and Postamble:\n",
    "\n",
    "- Project Gutenberg texts typically include introductory and closing text sections (preamble and postamble).\n",
    "- Markers:\n",
    "  - preamble = \" ***\" indicates the end of the introductory text.\n",
    "  - postamble = \"*** END OF \" indicates the beginning of the closing text.\n",
    "- We slice the text based on these markers to capture only the main content, avoiding irrelevant text.\n",
    "\n",
    "2. Filter Allowed Characters Using Regex:\n",
    "\n",
    "- Using re.sub(), we filter out any characters that don’t match our allowed set (uppercase letters, spaces, and periods).\n",
    "- Regex Pattern: [^a-zA-Z\\s.] specifies only letters (both cases), spaces, and periods, removing all other characters.\n",
    "3. Remove Consecutive Blank Lines:\n",
    "\n",
    "- Multiple consecutive blank lines can disrupt the trigram model by introducing excessive whitespace sequences.\n",
    "- We replace sequences of multiple newlines with a single newline using re.sub(r\"\\n\\s*\\n\", \"\\n\", cleaned_text), preserving basic spacing.\n",
    "4. Convert to Uppercase and Trim Whitespace:\n",
    "\n",
    "- Finally, upper() standardizes all characters to uppercase.\n",
    "- strip() removes any extra whitespace at the start and end of the text, preparing it for trigram processing."
   ]
  },
  {
   "cell_type": "code",
   "execution_count": 2,
   "metadata": {},
   "outputs": [],
   "source": [
    "def preprocess_text(text):\n",
    "    # Define markers for preamble and postamble sections\n",
    "    preamble = \" ***\"\n",
    "    postamble = \"*** END OF \"\n",
    "    \n",
    "    # Step 1: Remove preamble and postamble\n",
    "    cleaned_text = text[text.index(preamble) + len(preamble):text.index(postamble)]\n",
    "    \n",
    "    # Step 2: Filter out non-alphabetic characters, keeping only letters, spaces, and periods\n",
    "    cleaned_text = re.sub(\"[^a-zA-Z\\\\s.]\", \"\", cleaned_text)\n",
    "    \n",
    "    # Step 3: Replace multiple newlines with a single newline\n",
    "    cleaned_text = re.sub(r\"\\n\\s*\\n\", \"\\n\", cleaned_text)\n",
    "    \n",
    "    # Convert to uppercase and trim any leading/trailing whitespace\n",
    "    return cleaned_text.upper().strip()\n"
   ]
  },
  {
   "cell_type": "markdown",
   "metadata": {},
   "source": [
    "### Trigram Creation Function\n",
    "\n",
    "The produce_trigrams function takes a list of processed texts and iterates through each character in each text, extracting and counting every three-character sequence. This data is stored in a dictionary, where each trigram is a key and its frequency is the value.\n",
    "\n",
    "- Trigram Extraction: The function slices the text into three-character sequences.\n",
    "- Dictionary Update: For each trigram, it checks if the trigram already exists in the dictionary:\n",
    "    - If it exists, it increments the count.\n",
    "    - If it doesn’t exist, it initializes the trigram count to 1."
   ]
  },
  {
   "cell_type": "code",
   "execution_count": 3,
   "metadata": {},
   "outputs": [],
   "source": [
    "def produce_trigrams(texts):\n",
    "    trigram_counts = {}  # Dictionary to store trigram counts\n",
    "    \n",
    "    for text in texts:\n",
    "        for i in range(len(text) - 2):  # Stop at len(text) - 2 to avoid index errors\n",
    "            trigram = text[i:i+3]  # Extract three-character sequence\n",
    "            \n",
    "            # Only proceed if trigram has exactly 3 characters (skip incomplete sequences)\n",
    "            if len(trigram) == 3:\n",
    "                if trigram in trigram_counts:\n",
    "                    trigram_counts[trigram] += 1  # Increment count if trigram already exists\n",
    "                else:\n",
    "                    trigram_counts[trigram] = 1  # Initialize trigram count if it doesn't exist\n",
    "    \n",
    "    return trigram_counts\n"
   ]
  },
  {
   "cell_type": "markdown",
   "metadata": {},
   "source": [
    "### Processing Text Files\n",
    "Using the os library, we iterate over files in the texts/ directory, ensuring only .txt files are processed. Each file’s content is cleaned using preprocess_text, and the processed texts are stored in the processed_texts list for trigram generation."
   ]
  },
  {
   "cell_type": "code",
   "execution_count": 4,
   "metadata": {},
   "outputs": [],
   "source": [
    "# Load and process each .txt file in the 'texts/' directory\n",
    "for file in os.scandir(\"texts\"):\n",
    "    if file.name.endswith(\".txt\"):\n",
    "        with open(file.path, 'r', encoding='utf-8') as f:\n",
    "            content = f.read()\n",
    "            processed_texts.append(preprocess_text(content))  # Sanitize and add to the list\n"
   ]
  },
  {
   "cell_type": "markdown",
   "metadata": {},
   "source": [
    "### Generate Trigram Model\n",
    "With our processed texts ready, we pass them to produce_trigrams to generate the trigram model. This dictionary stores each trigram and its frequency across the text data."
   ]
  },
  {
   "cell_type": "code",
   "execution_count": 5,
   "metadata": {},
   "outputs": [
    {
     "name": "stdout",
     "output_type": "stream",
     "text": [
      "Sample of Trigram Model: {'THI': 1998, 'HIR': 138, 'IRT': 121, 'RTY': 163, 'TYO': 8, 'YON': 86, 'ONE': 1405, 'NE ': 1626, 'E B': 1614, ' BR': 673}\n"
     ]
    }
   ],
   "source": [
    "# Generate trigram model from processed texts\n",
    "trigrams = produce_trigrams(processed_texts)\n",
    "print(\"Sample of Trigram Model:\", dict(list(trigrams.items())[:10]))  # Display a sample\n"
   ]
  }
 ],
 "metadata": {
  "kernelspec": {
   "display_name": "base",
   "language": "python",
   "name": "python3"
  },
  "language_info": {
   "codemirror_mode": {
    "name": "ipython",
    "version": 3
   },
   "file_extension": ".py",
   "mimetype": "text/x-python",
   "name": "python",
   "nbconvert_exporter": "python",
   "pygments_lexer": "ipython3",
   "version": "3.11.7"
  }
 },
 "nbformat": 4,
 "nbformat_minor": 2
}
